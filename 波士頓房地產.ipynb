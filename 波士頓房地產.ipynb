{
 "cells": [
  {
   "cell_type": "code",
   "execution_count": null,
   "metadata": {},
   "outputs": [],
   "source": [
    "波士頓房地產"
   ]
  },
  {
   "cell_type": "code",
   "execution_count": null,
   "metadata": {},
   "outputs": [],
   "source": [
    "from sklearn import datasets\n",
    "boston=datasets.load_boston()\n",
    "#print(boston.DESCR)\n",
    "#print(boston.data)\n",
    "#print(boston.target)\n",
    "#CRIM(犯罪率) ZN(房屋大於25000FT比率) INDUS(住宅比率) CHAS(有無臨河) NOX(空屋比率)\n",
    "#RM(房間數) AGE(自有住宅比率) DIS(離市中心距離) RAD(離高速公路距離) TAX(房屋稅率)\n",
    "#PTRATIO(小學老師比率) B(黑人比率) LSTAT(低收入比率) MEDV(受雇者收入)"
   ]
  },
  {
   "cell_type": "code",
   "execution_count": null,
   "metadata": {},
   "outputs": [],
   "source": [
    "from sklearn import datasets\n",
    "from sklearn.cross_validation import cross_val_predict\n",
    "from sklearn import linear_model\n",
    "import matplotlib.pyplot as plt\n",
    "boston=datasets.load_boston()\n",
    "#print(boston.DESCR)\n",
    "#print(boston.data)\n",
    "#print(boston.target)\n",
    "#CRIM(犯罪率) ZN(房屋大於25000FT比率) INDUS(住宅比率) CHAS(有無臨河) NOX(空屋比率)\n",
    "#RM(房間數) AGE(自有住宅比率) DIS(離市中心距離) RAD(離高速公路距離) TAX(房屋稅率)\n",
    "#PTRATIO(小學老師比率) B(黑人比率) LSTAT(低收入比率) MEDV(受雇者收入)\n",
    "lr=linear_model.LinearRegression()\n",
    "predicted = cross_val_predict(lr,boston.data,boston.target,cv=10)\n",
    "#分成10分來訓練，其中一份為測試集\n",
    "\n",
    "y=boston.target\n",
    "plt.figure()\n",
    "plt.scatter(y,predicted)\n",
    "plt.plot([y.min(),y.max()],[y.min(),y.max()],'k--',lw=4)\n",
    "plt.show()"
   ]
  }
 ],
 "metadata": {
  "kernelspec": {
   "display_name": "Python 3",
   "language": "python",
   "name": "python3"
  },
  "language_info": {
   "codemirror_mode": {
    "name": "ipython",
    "version": 3
   },
   "file_extension": ".py",
   "mimetype": "text/x-python",
   "name": "python",
   "nbconvert_exporter": "python",
   "pygments_lexer": "ipython3",
   "version": "3.6.4"
  }
 },
 "nbformat": 4,
 "nbformat_minor": 2
}
